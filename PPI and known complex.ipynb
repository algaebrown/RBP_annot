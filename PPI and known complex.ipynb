{
 "cells": [
  {
   "cell_type": "markdown",
   "metadata": {},
   "source": [
    "# This file is to extract RBP interactions from Protein-protein interaction networks\n",
    "\n",
    "## STRING network\n",
    "- the network is to be used for further validation"
   ]
  },
  {
   "cell_type": "code",
   "execution_count": 1,
   "metadata": {},
   "outputs": [],
   "source": [
    "root_dir = '/home/hsher/seqdata/ppi/'"
   ]
  },
  {
   "cell_type": "code",
   "execution_count": 2,
   "metadata": {},
   "outputs": [],
   "source": [
    "import pandas as pd\n",
    "rbp_id = pd.read_pickle('RBP_id.pickle')"
   ]
  },
  {
   "cell_type": "code",
   "execution_count": 3,
   "metadata": {},
   "outputs": [],
   "source": [
    "# load string\n",
    "string = pd.read_csv(root_dir+'9606.protein.actions.v11.0.txt', sep = '\\t', header = 0)"
   ]
  },
  {
   "cell_type": "code",
   "execution_count": 4,
   "metadata": {},
   "outputs": [
    {
     "data": {
      "text/html": [
       "<div>\n",
       "<style scoped>\n",
       "    .dataframe tbody tr th:only-of-type {\n",
       "        vertical-align: middle;\n",
       "    }\n",
       "\n",
       "    .dataframe tbody tr th {\n",
       "        vertical-align: top;\n",
       "    }\n",
       "\n",
       "    .dataframe thead th {\n",
       "        text-align: right;\n",
       "    }\n",
       "</style>\n",
       "<table border=\"1\" class=\"dataframe\">\n",
       "  <thead>\n",
       "    <tr style=\"text-align: right;\">\n",
       "      <th></th>\n",
       "      <th>item_id_a</th>\n",
       "      <th>item_id_b</th>\n",
       "      <th>mode</th>\n",
       "      <th>action</th>\n",
       "      <th>is_directional</th>\n",
       "      <th>a_is_acting</th>\n",
       "      <th>score</th>\n",
       "    </tr>\n",
       "  </thead>\n",
       "  <tbody>\n",
       "    <tr>\n",
       "      <th>0</th>\n",
       "      <td>9606.ENSP00000000233</td>\n",
       "      <td>9606.ENSP00000216366</td>\n",
       "      <td>binding</td>\n",
       "      <td>NaN</td>\n",
       "      <td>f</td>\n",
       "      <td>f</td>\n",
       "      <td>165</td>\n",
       "    </tr>\n",
       "    <tr>\n",
       "      <th>1</th>\n",
       "      <td>9606.ENSP00000000233</td>\n",
       "      <td>9606.ENSP00000216366</td>\n",
       "      <td>reaction</td>\n",
       "      <td>NaN</td>\n",
       "      <td>f</td>\n",
       "      <td>f</td>\n",
       "      <td>165</td>\n",
       "    </tr>\n",
       "    <tr>\n",
       "      <th>2</th>\n",
       "      <td>9606.ENSP00000000233</td>\n",
       "      <td>9606.ENSP00000216366</td>\n",
       "      <td>reaction</td>\n",
       "      <td>NaN</td>\n",
       "      <td>t</td>\n",
       "      <td>f</td>\n",
       "      <td>165</td>\n",
       "    </tr>\n",
       "    <tr>\n",
       "      <th>3</th>\n",
       "      <td>9606.ENSP00000000233</td>\n",
       "      <td>9606.ENSP00000216366</td>\n",
       "      <td>reaction</td>\n",
       "      <td>NaN</td>\n",
       "      <td>t</td>\n",
       "      <td>t</td>\n",
       "      <td>165</td>\n",
       "    </tr>\n",
       "    <tr>\n",
       "      <th>4</th>\n",
       "      <td>9606.ENSP00000000233</td>\n",
       "      <td>9606.ENSP00000222547</td>\n",
       "      <td>binding</td>\n",
       "      <td>NaN</td>\n",
       "      <td>f</td>\n",
       "      <td>f</td>\n",
       "      <td>913</td>\n",
       "    </tr>\n",
       "  </tbody>\n",
       "</table>\n",
       "</div>"
      ],
      "text/plain": [
       "              item_id_a             item_id_b      mode action is_directional  \\\n",
       "0  9606.ENSP00000000233  9606.ENSP00000216366   binding    NaN              f   \n",
       "1  9606.ENSP00000000233  9606.ENSP00000216366  reaction    NaN              f   \n",
       "2  9606.ENSP00000000233  9606.ENSP00000216366  reaction    NaN              t   \n",
       "3  9606.ENSP00000000233  9606.ENSP00000216366  reaction    NaN              t   \n",
       "4  9606.ENSP00000000233  9606.ENSP00000222547   binding    NaN              f   \n",
       "\n",
       "  a_is_acting  score  \n",
       "0           f    165  \n",
       "1           f    165  \n",
       "2           f    165  \n",
       "3           t    165  \n",
       "4           f    913  "
      ]
     },
     "execution_count": 4,
     "metadata": {},
     "output_type": "execute_result"
    }
   ],
   "source": [
    "string.head()"
   ]
  },
  {
   "cell_type": "code",
   "execution_count": 5,
   "metadata": {},
   "outputs": [],
   "source": [
    "string['protein_one'] = string['item_id_a'].str.replace('9606.', '')\n",
    "string['protein_two'] = string['item_id_b'].str.replace('9606.', '')"
   ]
  },
  {
   "cell_type": "code",
   "execution_count": 6,
   "metadata": {},
   "outputs": [],
   "source": [
    "all_rbp_esnp = set()\n",
    "_ = [all_rbp_esnp.update(i) for i in rbp_id['esnp']]"
   ]
  },
  {
   "cell_type": "code",
   "execution_count": 7,
   "metadata": {},
   "outputs": [
    {
     "data": {
      "text/plain": [
       "1176"
      ]
     },
     "execution_count": 7,
     "metadata": {},
     "output_type": "execute_result"
    }
   ],
   "source": [
    "len(all_rbp_esnp)"
   ]
  },
  {
   "cell_type": "markdown",
   "metadata": {},
   "source": [
    "# Links between RBP"
   ]
  },
  {
   "cell_type": "code",
   "execution_count": 8,
   "metadata": {},
   "outputs": [],
   "source": [
    "string_subset = string.loc[(string['protein_one'].isin(all_rbp_esnp)) & (string['protein_two'].isin(all_rbp_esnp))]"
   ]
  },
  {
   "cell_type": "code",
   "execution_count": 9,
   "metadata": {},
   "outputs": [
    {
     "data": {
      "text/plain": [
       "(10524, 9)"
      ]
     },
     "execution_count": 9,
     "metadata": {},
     "output_type": "execute_result"
    }
   ],
   "source": [
    "string_subset.shape"
   ]
  },
  {
   "cell_type": "code",
   "execution_count": 10,
   "metadata": {},
   "outputs": [
    {
     "data": {
      "text/plain": [
       "118"
      ]
     },
     "execution_count": 10,
     "metadata": {},
     "output_type": "execute_result"
    }
   ],
   "source": [
    "esnp_in_string = set(string_subset['protein_one']).union(set(string_subset['protein_two']))\n",
    "len(set(string_subset['protein_one']).union(set(string_subset['protein_two']))) # 118 RBP"
   ]
  },
  {
   "cell_type": "code",
   "execution_count": 11,
   "metadata": {},
   "outputs": [
    {
     "data": {
      "text/plain": [
       "(150, 219)"
      ]
     },
     "execution_count": 11,
     "metadata": {},
     "output_type": "execute_result"
    }
   ],
   "source": [
    "rbp_id.shape #some RBP are not accounted"
   ]
  },
  {
   "cell_type": "code",
   "execution_count": 12,
   "metadata": {},
   "outputs": [
    {
     "data": {
      "text/plain": [
       "reaction      5126\n",
       "catalysis     3162\n",
       "binding       2056\n",
       "activation     130\n",
       "inhibition      48\n",
       "expression       2\n",
       "Name: mode, dtype: int64"
      ]
     },
     "execution_count": 12,
     "metadata": {},
     "output_type": "execute_result"
    }
   ],
   "source": [
    "string_subset['mode'].value_counts() # type of itxn"
   ]
  },
  {
   "cell_type": "code",
   "execution_count": 13,
   "metadata": {},
   "outputs": [
    {
     "data": {
      "text/plain": [
       "query\n",
       "HNRNPC      {ENSP00000452599, ENSP00000452213, ENSP0000044...\n",
       "RBFOX2      {ENSP00000474464, ENSP00000407855, ENSP0000047...\n",
       "IGF2BP1                    {ENSP00000389135, ENSP00000290341}\n",
       "HNRNPK      {ENSP00000409456, ENSP00000317788, ENSP0000047...\n",
       "SRSF7       {ENSP00000408868, ENSP00000386806, ENSP0000039...\n",
       "                                  ...                        \n",
       "PRPF4                      {ENSP00000363313, ENSP00000363315}\n",
       "TIAL1       {ENSP00000403573, ENSP00000358082, ENSP0000039...\n",
       "DDX21                      {ENSP00000346120, ENSP00000480334}\n",
       "APOBEC3C                   {ENSP00000355340, ENSP00000390855}\n",
       "SUB1        {ENSP00000423893, ENSP00000422078, ENSP0000042...\n",
       "Name: esnp, Length: 150, dtype: object"
      ]
     },
     "execution_count": 13,
     "metadata": {},
     "output_type": "execute_result"
    }
   ],
   "source": [
    "rbp_id['esnp']"
   ]
  },
  {
   "cell_type": "code",
   "execution_count": 14,
   "metadata": {},
   "outputs": [],
   "source": [
    "# map esnp back to name\n",
    "\n",
    "# identify esnp\n",
    "string_ensp = [(list(rbp_id['esnp'][i].intersection(esnp_in_string))[0],i) for i in rbp_id['esnp'].index if len(rbp_id['esnp'][i].intersection(esnp_in_string))>0]"
   ]
  },
  {
   "cell_type": "code",
   "execution_count": 15,
   "metadata": {},
   "outputs": [
    {
     "name": "stderr",
     "output_type": "stream",
     "text": [
      "/home/hsher/miniconda3/lib/python3.7/site-packages/ipykernel_launcher.py:1: SettingWithCopyWarning: \n",
      "A value is trying to be set on a copy of a slice from a DataFrame.\n",
      "Try using .loc[row_indexer,col_indexer] = value instead\n",
      "\n",
      "See the caveats in the documentation: https://pandas.pydata.org/pandas-docs/stable/user_guide/indexing.html#returning-a-view-versus-a-copy\n",
      "  \"\"\"Entry point for launching an IPython kernel.\n",
      "/home/hsher/miniconda3/lib/python3.7/site-packages/ipykernel_launcher.py:2: SettingWithCopyWarning: \n",
      "A value is trying to be set on a copy of a slice from a DataFrame.\n",
      "Try using .loc[row_indexer,col_indexer] = value instead\n",
      "\n",
      "See the caveats in the documentation: https://pandas.pydata.org/pandas-docs/stable/user_guide/indexing.html#returning-a-view-versus-a-copy\n",
      "  \n"
     ]
    }
   ],
   "source": [
    "string_subset['protein_one_rbp'] = string_subset['protein_one'].map(dict(string_ensp))\n",
    "string_subset['protein_two_rbp'] = string_subset['protein_two'].map(dict(string_ensp))"
   ]
  },
  {
   "cell_type": "code",
   "execution_count": 16,
   "metadata": {},
   "outputs": [],
   "source": [
    "string_subset.to_pickle('string_rbp_in.pickle')"
   ]
  },
  {
   "cell_type": "markdown",
   "metadata": {},
   "source": [
    "# Visualize string subset RBP networks"
   ]
  },
  {
   "cell_type": "code",
   "execution_count": 17,
   "metadata": {},
   "outputs": [],
   "source": [
    "import networkx as nx\n",
    "G = nx.convert_matrix.from_pandas_edgelist(string_subset, source='protein_one_rbp', target='protein_two_rbp')"
   ]
  },
  {
   "cell_type": "code",
   "execution_count": 18,
   "metadata": {},
   "outputs": [
    {
     "data": {
      "text/plain": [
       "2"
      ]
     },
     "execution_count": 18,
     "metadata": {},
     "output_type": "execute_result"
    }
   ],
   "source": [
    "nx.number_connected_components(G)"
   ]
  },
  {
   "cell_type": "code",
   "execution_count": 19,
   "metadata": {},
   "outputs": [],
   "source": [
    "component_list = nx.connected_components(G) # a big one, and WRN+XRCC6"
   ]
  },
  {
   "cell_type": "code",
   "execution_count": 20,
   "metadata": {},
   "outputs": [],
   "source": [
    "from networkx.algorithms.community import greedy_modularity_communities\n",
    "c = list(greedy_modularity_communities(G))"
   ]
  },
  {
   "cell_type": "code",
   "execution_count": 21,
   "metadata": {},
   "outputs": [
    {
     "data": {
      "text/plain": [
       "[55, 49, 9, 3, 2]"
      ]
     },
     "execution_count": 21,
     "metadata": {},
     "output_type": "execute_result"
    }
   ],
   "source": [
    "[len(s) for s in c]"
   ]
  },
  {
   "cell_type": "code",
   "execution_count": 22,
   "metadata": {},
   "outputs": [],
   "source": [
    "adj = nx.convert_matrix.to_pandas_adjacency(G)\n"
   ]
  },
  {
   "cell_type": "code",
   "execution_count": 23,
   "metadata": {},
   "outputs": [
    {
     "name": "stderr",
     "output_type": "stream",
     "text": [
      "/home/hsher/miniconda3/lib/python3.7/site-packages/ipykernel_launcher.py:1: DeprecationWarning: The default dtype for empty Series will be 'object' instead of 'float64' in a future version. Specify a dtype explicitly to silence this warning.\n",
      "  \"\"\"Entry point for launching an IPython kernel.\n"
     ]
    }
   ],
   "source": [
    "module = pd.Series(index = adj.index)\n",
    "colors = ['red','orange', 'gold', 'green', 'navy']\n",
    "n=0\n",
    "for community in c:\n",
    "    module.loc[list(community)] = colors[n]\n",
    "    n+=1"
   ]
  },
  {
   "cell_type": "code",
   "execution_count": 24,
   "metadata": {},
   "outputs": [
    {
     "name": "stderr",
     "output_type": "stream",
     "text": [
      "/home/hsher/miniconda3/lib/python3.7/site-packages/seaborn/matrix.py:624: UserWarning: Clustering large matrix with scipy. Installing `fastcluster` may give better performance.\n",
      "  warnings.warn(msg)\n",
      "/home/hsher/miniconda3/lib/python3.7/site-packages/seaborn/matrix.py:595: ClusterWarning: scipy.cluster: The symmetric non-negative hollow observation matrix looks suspiciously like an uncondensed distance matrix\n",
      "  metric=self.metric)\n"
     ]
    },
    {
     "data": {
      "text/plain": [
       "<seaborn.matrix.ClusterGrid at 0x2b28409d8750>"
      ]
     },
     "execution_count": 24,
     "metadata": {},
     "output_type": "execute_result"
    },
    {
     "data": {
      "image/png": "[encoded data removed]",
      "text/plain": [
       "<Figure size 720x720 with 5 Axes>"
      ]
     },
     "metadata": {
      "needs_background": "light"
     },
     "output_type": "display_data"
    }
   ],
   "source": [
    "import seaborn as sns\n",
    "sns.clustermap(adj, row_colors = module)"
   ]
  },
  {
   "cell_type": "markdown",
   "metadata": {},
   "source": [
    "# Links between RBP and other protein"
   ]
  },
  {
   "cell_type": "code",
   "execution_count": 25,
   "metadata": {},
   "outputs": [],
   "source": [
    "string_across = string.loc[(string['protein_one'].isin(all_rbp_esnp)) | (string['protein_two'].isin(all_rbp_esnp))]"
   ]
  },
  {
   "cell_type": "code",
   "execution_count": 26,
   "metadata": {},
   "outputs": [
    {
     "data": {
      "text/plain": [
       "(148626, 9)"
      ]
     },
     "execution_count": 26,
     "metadata": {},
     "output_type": "execute_result"
    }
   ],
   "source": [
    "string_across.shape"
   ]
  },
  {
   "cell_type": "code",
   "execution_count": 27,
   "metadata": {},
   "outputs": [
    {
     "data": {
      "text/plain": [
       "145"
      ]
     },
     "execution_count": 27,
     "metadata": {},
     "output_type": "execute_result"
    }
   ],
   "source": [
    "len((set(string_across['protein_one']).union(set(string_across['protein_two']))).intersection(all_rbp_esnp))\n",
    "# some RBP don't have partners within RBPs but have other protein partners"
   ]
  },
  {
   "cell_type": "code",
   "execution_count": 28,
   "metadata": {},
   "outputs": [],
   "source": [
    "RBP_partners = (set(string_across['protein_one']).union(set(string_across['protein_two'])))-set(all_rbp_esnp)"
   ]
  },
  {
   "cell_type": "code",
   "execution_count": 29,
   "metadata": {},
   "outputs": [
    {
     "data": {
      "text/plain": [
       "2958"
      ]
     },
     "execution_count": 29,
     "metadata": {},
     "output_type": "execute_result"
    }
   ],
   "source": [
    "len(RBP_partners) # in total 2958 other proteins interact with our set of RBP"
   ]
  },
  {
   "cell_type": "markdown",
   "metadata": {},
   "source": [
    "# BioPlex 2020"
   ]
  },
  {
   "cell_type": "code",
   "execution_count": 30,
   "metadata": {},
   "outputs": [],
   "source": [
    "# load string\n",
    "bioplex = pd.read_csv(root_dir + 'BioPlex_293T_Network_10K_Dec_2019.tsv', sep = '\\t', header = 0)"
   ]
  },
  {
   "cell_type": "code",
   "execution_count": 31,
   "metadata": {},
   "outputs": [
    {
     "data": {
      "text/html": [
       "<div>\n",
       "<style scoped>\n",
       "    .dataframe tbody tr th:only-of-type {\n",
       "        vertical-align: middle;\n",
       "    }\n",
       "\n",
       "    .dataframe tbody tr th {\n",
       "        vertical-align: top;\n",
       "    }\n",
       "\n",
       "    .dataframe thead th {\n",
       "        text-align: right;\n",
       "    }\n",
       "</style>\n",
       "<table border=\"1\" class=\"dataframe\">\n",
       "  <thead>\n",
       "    <tr style=\"text-align: right;\">\n",
       "      <th></th>\n",
       "      <th>GeneA</th>\n",
       "      <th>GeneB</th>\n",
       "      <th>UniprotA</th>\n",
       "      <th>UniprotB</th>\n",
       "      <th>SymbolA</th>\n",
       "      <th>SymbolB</th>\n",
       "      <th>pW</th>\n",
       "      <th>pNI</th>\n",
       "      <th>pInt</th>\n",
       "    </tr>\n",
       "  </thead>\n",
       "  <tbody>\n",
       "    <tr>\n",
       "      <th>0</th>\n",
       "      <td>100</td>\n",
       "      <td>728378</td>\n",
       "      <td>P00813</td>\n",
       "      <td>A5A3E0</td>\n",
       "      <td>ADA</td>\n",
       "      <td>POTEF</td>\n",
       "      <td>6.881844e-10</td>\n",
       "      <td>0.000118</td>\n",
       "      <td>0.999882</td>\n",
       "    </tr>\n",
       "    <tr>\n",
       "      <th>1</th>\n",
       "      <td>222389</td>\n",
       "      <td>6137</td>\n",
       "      <td>Q8N7W2-2</td>\n",
       "      <td>P26373</td>\n",
       "      <td>BEND7</td>\n",
       "      <td>RPL13</td>\n",
       "      <td>1.340380e-18</td>\n",
       "      <td>0.225664</td>\n",
       "      <td>0.774336</td>\n",
       "    </tr>\n",
       "    <tr>\n",
       "      <th>2</th>\n",
       "      <td>222389</td>\n",
       "      <td>5928</td>\n",
       "      <td>Q8N7W2-2</td>\n",
       "      <td>Q09028-3</td>\n",
       "      <td>BEND7</td>\n",
       "      <td>RBBP4</td>\n",
       "      <td>7.221401e-21</td>\n",
       "      <td>0.000064</td>\n",
       "      <td>0.999936</td>\n",
       "    </tr>\n",
       "    <tr>\n",
       "      <th>3</th>\n",
       "      <td>222389</td>\n",
       "      <td>25873</td>\n",
       "      <td>Q8N7W2-2</td>\n",
       "      <td>Q9Y3U8</td>\n",
       "      <td>BEND7</td>\n",
       "      <td>RPL36</td>\n",
       "      <td>7.058372e-17</td>\n",
       "      <td>0.128183</td>\n",
       "      <td>0.871817</td>\n",
       "    </tr>\n",
       "    <tr>\n",
       "      <th>4</th>\n",
       "      <td>222389</td>\n",
       "      <td>6124</td>\n",
       "      <td>Q8N7W2-2</td>\n",
       "      <td>P36578</td>\n",
       "      <td>BEND7</td>\n",
       "      <td>RPL4</td>\n",
       "      <td>1.632313e-22</td>\n",
       "      <td>0.200638</td>\n",
       "      <td>0.799362</td>\n",
       "    </tr>\n",
       "  </tbody>\n",
       "</table>\n",
       "</div>"
      ],
      "text/plain": [
       "    GeneA   GeneB  UniprotA  UniprotB SymbolA SymbolB            pW       pNI  \\\n",
       "0     100  728378    P00813    A5A3E0     ADA   POTEF  6.881844e-10  0.000118   \n",
       "1  222389    6137  Q8N7W2-2    P26373   BEND7   RPL13  1.340380e-18  0.225664   \n",
       "2  222389    5928  Q8N7W2-2  Q09028-3   BEND7   RBBP4  7.221401e-21  0.000064   \n",
       "3  222389   25873  Q8N7W2-2    Q9Y3U8   BEND7   RPL36  7.058372e-17  0.128183   \n",
       "4  222389    6124  Q8N7W2-2    P36578   BEND7    RPL4  1.632313e-22  0.200638   \n",
       "\n",
       "       pInt  \n",
       "0  0.999882  \n",
       "1  0.774336  \n",
       "2  0.999936  \n",
       "3  0.871817  \n",
       "4  0.799362  "
      ]
     },
     "execution_count": 31,
     "metadata": {},
     "output_type": "execute_result"
    }
   ],
   "source": [
    "bioplex.head()"
   ]
  },
  {
   "cell_type": "code",
   "execution_count": 32,
   "metadata": {},
   "outputs": [],
   "source": [
    "b1 = bioplex.loc[(bioplex['UniprotA'].isin(rbp_id['uniprot.Swiss-Prot'])) & (bioplex['UniprotB'].isin(rbp_id['uniprot.Swiss-Prot']))]"
   ]
  },
  {
   "cell_type": "code",
   "execution_count": 33,
   "metadata": {},
   "outputs": [],
   "source": [
    "b2 = bioplex.loc[(bioplex['SymbolA'].isin(rbp_id.index)) & (bioplex['SymbolB'].isin(rbp_id.index))]"
   ]
  },
  {
   "cell_type": "code",
   "execution_count": 34,
   "metadata": {},
   "outputs": [],
   "source": [
    "all_b = b1.append(b2)"
   ]
  },
  {
   "cell_type": "code",
   "execution_count": 35,
   "metadata": {},
   "outputs": [],
   "source": [
    "all_b.drop_duplicates(inplace = True)"
   ]
  },
  {
   "cell_type": "code",
   "execution_count": 36,
   "metadata": {},
   "outputs": [
    {
     "data": {
      "text/plain": [
       "(149, 9)"
      ]
     },
     "execution_count": 36,
     "metadata": {},
     "output_type": "execute_result"
    }
   ],
   "source": [
    "all_b.shape"
   ]
  },
  {
   "cell_type": "code",
   "execution_count": 37,
   "metadata": {},
   "outputs": [],
   "source": [
    "all_b.to_pickle('bioplex_rbp_in.pickle')"
   ]
  },
  {
   "cell_type": "markdown",
   "metadata": {},
   "source": [
    "# BioGRID (include the HuRI)"
   ]
  },
  {
   "cell_type": "code",
   "execution_count": 38,
   "metadata": {},
   "outputs": [
    {
     "name": "stdout",
     "output_type": "stream",
     "text": [
      "36\n"
     ]
    }
   ],
   "source": [
    "# determine line of comment\n",
    "with open(root_dir + 'BIOGRID-ORGANISM-Homo_sapiens-3.5.186.tab.txt') as f:\n",
    "    i = 0\n",
    "    for line in f.readlines():\n",
    "        if line[:2] != 'ET':\n",
    "            i += 1\n",
    "        else:\n",
    "            print(i)\n",
    "            break\n",
    "            "
   ]
  },
  {
   "cell_type": "code",
   "execution_count": 39,
   "metadata": {},
   "outputs": [],
   "source": [
    "# load string\n",
    "biogrid = pd.read_csv(root_dir + 'BIOGRID-ORGANISM-Homo_sapiens-3.5.186.tab.txt', sep = '\\t', header = 0, skiprows = 35)"
   ]
  },
  {
   "cell_type": "code",
   "execution_count": 40,
   "metadata": {},
   "outputs": [
    {
     "data": {
      "text/html": [
       "<div>\n",
       "<style scoped>\n",
       "    .dataframe tbody tr th:only-of-type {\n",
       "        vertical-align: middle;\n",
       "    }\n",
       "\n",
       "    .dataframe tbody tr th {\n",
       "        vertical-align: top;\n",
       "    }\n",
       "\n",
       "    .dataframe thead th {\n",
       "        text-align: right;\n",
       "    }\n",
       "</style>\n",
       "<table border=\"1\" class=\"dataframe\">\n",
       "  <thead>\n",
       "    <tr style=\"text-align: right;\">\n",
       "      <th></th>\n",
       "      <th>INTERACTOR_A</th>\n",
       "      <th>INTERACTOR_B</th>\n",
       "      <th>OFFICIAL_SYMBOL_A</th>\n",
       "      <th>OFFICIAL_SYMBOL_B</th>\n",
       "      <th>ALIASES_FOR_A</th>\n",
       "      <th>ALIASES_FOR_B</th>\n",
       "      <th>EXPERIMENTAL_SYSTEM</th>\n",
       "      <th>SOURCE</th>\n",
       "      <th>PUBMED_ID</th>\n",
       "      <th>ORGANISM_A_ID</th>\n",
       "      <th>ORGANISM_B_ID</th>\n",
       "    </tr>\n",
       "  </thead>\n",
       "  <tbody>\n",
       "    <tr>\n",
       "      <th>0</th>\n",
       "      <td>ETG6416</td>\n",
       "      <td>ETG2318</td>\n",
       "      <td>MAP2K4</td>\n",
       "      <td>FLNC</td>\n",
       "      <td>JNKK|JNKK1|MAPKK4|MEK4|MKK4|PRKMK4|SAPKK-1|SAP...</td>\n",
       "      <td>ABP-280|ABP280A|ABPA|ABPL|FLN2|MFM5|MPD4</td>\n",
       "      <td>Two-hybrid</td>\n",
       "      <td>Marti A (1997)</td>\n",
       "      <td>9006895</td>\n",
       "      <td>9606</td>\n",
       "      <td>9606</td>\n",
       "    </tr>\n",
       "    <tr>\n",
       "      <th>1</th>\n",
       "      <td>ETG84665</td>\n",
       "      <td>ETG88</td>\n",
       "      <td>MYPN</td>\n",
       "      <td>ACTN2</td>\n",
       "      <td>CMD1DD|CMH22|MYOP|RCM4</td>\n",
       "      <td>CMD1AA</td>\n",
       "      <td>Two-hybrid</td>\n",
       "      <td>Bang ML (2001)</td>\n",
       "      <td>11309420</td>\n",
       "      <td>9606</td>\n",
       "      <td>9606</td>\n",
       "    </tr>\n",
       "    <tr>\n",
       "      <th>2</th>\n",
       "      <td>ETG90</td>\n",
       "      <td>ETG2339</td>\n",
       "      <td>ACVR1</td>\n",
       "      <td>FNTA</td>\n",
       "      <td>ACTRI|ACVR1A|ACVRLK2|ALK2|FOP|SKR1|TSRI</td>\n",
       "      <td>FPTA|PGGT1A|PTAR2</td>\n",
       "      <td>Two-hybrid</td>\n",
       "      <td>Wang T (1996)</td>\n",
       "      <td>8599089</td>\n",
       "      <td>9606</td>\n",
       "      <td>9606</td>\n",
       "    </tr>\n",
       "    <tr>\n",
       "      <th>3</th>\n",
       "      <td>ETG2624</td>\n",
       "      <td>ETG5371</td>\n",
       "      <td>GATA2</td>\n",
       "      <td>PML</td>\n",
       "      <td>DCML|IMD21|MONOMAC|NFE1B</td>\n",
       "      <td>MYL|PP8675|RNF71|TRIM19</td>\n",
       "      <td>Two-hybrid</td>\n",
       "      <td>Tsuzuki S (2000)</td>\n",
       "      <td>10938104</td>\n",
       "      <td>9606</td>\n",
       "      <td>9606</td>\n",
       "    </tr>\n",
       "    <tr>\n",
       "      <th>4</th>\n",
       "      <td>RP4-547C9.3</td>\n",
       "      <td>ETG6774</td>\n",
       "      <td>RPA2</td>\n",
       "      <td>STAT3</td>\n",
       "      <td>REPA2|RP-A p32|RP-A p34|RPA32</td>\n",
       "      <td>ADMIO|APRF|HIES</td>\n",
       "      <td>Two-hybrid</td>\n",
       "      <td>Kim J (2000)</td>\n",
       "      <td>10875894</td>\n",
       "      <td>9606</td>\n",
       "      <td>9606</td>\n",
       "    </tr>\n",
       "  </tbody>\n",
       "</table>\n",
       "</div>"
      ],
      "text/plain": [
       "  INTERACTOR_A INTERACTOR_B OFFICIAL_SYMBOL_A OFFICIAL_SYMBOL_B  \\\n",
       "0      ETG6416      ETG2318            MAP2K4              FLNC   \n",
       "1     ETG84665        ETG88              MYPN             ACTN2   \n",
       "2        ETG90      ETG2339             ACVR1              FNTA   \n",
       "3      ETG2624      ETG5371             GATA2               PML   \n",
       "4  RP4-547C9.3      ETG6774              RPA2             STAT3   \n",
       "\n",
       "                                       ALIASES_FOR_A  \\\n",
       "0  JNKK|JNKK1|MAPKK4|MEK4|MKK4|PRKMK4|SAPKK-1|SAP...   \n",
       "1                             CMD1DD|CMH22|MYOP|RCM4   \n",
       "2            ACTRI|ACVR1A|ACVRLK2|ALK2|FOP|SKR1|TSRI   \n",
       "3                           DCML|IMD21|MONOMAC|NFE1B   \n",
       "4                      REPA2|RP-A p32|RP-A p34|RPA32   \n",
       "\n",
       "                              ALIASES_FOR_B EXPERIMENTAL_SYSTEM  \\\n",
       "0  ABP-280|ABP280A|ABPA|ABPL|FLN2|MFM5|MPD4          Two-hybrid   \n",
       "1                                    CMD1AA          Two-hybrid   \n",
       "2                         FPTA|PGGT1A|PTAR2          Two-hybrid   \n",
       "3                   MYL|PP8675|RNF71|TRIM19          Two-hybrid   \n",
       "4                           ADMIO|APRF|HIES          Two-hybrid   \n",
       "\n",
       "             SOURCE  PUBMED_ID  ORGANISM_A_ID  ORGANISM_B_ID  \n",
       "0    Marti A (1997)    9006895           9606           9606  \n",
       "1    Bang ML (2001)   11309420           9606           9606  \n",
       "2     Wang T (1996)    8599089           9606           9606  \n",
       "3  Tsuzuki S (2000)   10938104           9606           9606  \n",
       "4      Kim J (2000)   10875894           9606           9606  "
      ]
     },
     "execution_count": 40,
     "metadata": {},
     "output_type": "execute_result"
    }
   ],
   "source": [
    "biogrid.head()"
   ]
  },
  {
   "cell_type": "code",
   "execution_count": 41,
   "metadata": {},
   "outputs": [],
   "source": [
    "biogrid_subset = biogrid.loc[(biogrid['OFFICIAL_SYMBOL_A'].isin(rbp_id.index)) & (biogrid['OFFICIAL_SYMBOL_B'].isin(rbp_id.index))]"
   ]
  },
  {
   "cell_type": "code",
   "execution_count": 42,
   "metadata": {},
   "outputs": [
    {
     "data": {
      "text/plain": [
       "(1517, 11)"
      ]
     },
     "execution_count": 42,
     "metadata": {},
     "output_type": "execute_result"
    }
   ],
   "source": [
    "biogrid_subset.shape"
   ]
  },
  {
   "cell_type": "code",
   "execution_count": 43,
   "metadata": {},
   "outputs": [],
   "source": [
    "biogrid_subset.to_pickle('biogrid.pickle')"
   ]
  },
  {
   "cell_type": "markdown",
   "metadata": {},
   "source": [
    "# Mentha"
   ]
  },
  {
   "cell_type": "code",
   "execution_count": 44,
   "metadata": {},
   "outputs": [],
   "source": [
    "mentha = pd.read_csv(root_dir + '9606', sep = ';', header = 0)"
   ]
  },
  {
   "cell_type": "code",
   "execution_count": 45,
   "metadata": {},
   "outputs": [
    {
     "data": {
      "text/plain": [
       "(340916, 6)"
      ]
     },
     "execution_count": 45,
     "metadata": {},
     "output_type": "execute_result"
    }
   ],
   "source": [
    "mentha.shape"
   ]
  },
  {
   "cell_type": "code",
   "execution_count": 46,
   "metadata": {},
   "outputs": [
    {
     "data": {
      "text/html": [
       "<div>\n",
       "<style scoped>\n",
       "    .dataframe tbody tr th:only-of-type {\n",
       "        vertical-align: middle;\n",
       "    }\n",
       "\n",
       "    .dataframe tbody tr th {\n",
       "        vertical-align: top;\n",
       "    }\n",
       "\n",
       "    .dataframe thead th {\n",
       "        text-align: right;\n",
       "    }\n",
       "</style>\n",
       "<table border=\"1\" class=\"dataframe\">\n",
       "  <thead>\n",
       "    <tr style=\"text-align: right;\">\n",
       "      <th></th>\n",
       "      <th>Protein A</th>\n",
       "      <th>Gene A</th>\n",
       "      <th>Protein B</th>\n",
       "      <th>Gene B</th>\n",
       "      <th>Score</th>\n",
       "      <th>PMID</th>\n",
       "    </tr>\n",
       "  </thead>\n",
       "  <tbody>\n",
       "    <tr>\n",
       "      <th>0</th>\n",
       "      <td>Q9UBN7</td>\n",
       "      <td>HDAC6</td>\n",
       "      <td>Q9NQC7</td>\n",
       "      <td>CYLD</td>\n",
       "      <td>0.787</td>\n",
       "      <td>19893491 20593489</td>\n",
       "    </tr>\n",
       "    <tr>\n",
       "      <th>1</th>\n",
       "      <td>Q02078</td>\n",
       "      <td>MEF2A</td>\n",
       "      <td>P54198</td>\n",
       "      <td>HIRA</td>\n",
       "      <td>0.236</td>\n",
       "      <td>25609649</td>\n",
       "    </tr>\n",
       "    <tr>\n",
       "      <th>2</th>\n",
       "      <td>Q9UKX7</td>\n",
       "      <td>NUP50</td>\n",
       "      <td>Q9UBN7</td>\n",
       "      <td>HDAC6</td>\n",
       "      <td>0.236</td>\n",
       "      <td>23752268</td>\n",
       "    </tr>\n",
       "    <tr>\n",
       "      <th>3</th>\n",
       "      <td>Q9UBX3</td>\n",
       "      <td>SLC25A10</td>\n",
       "      <td>Q9UBN7</td>\n",
       "      <td>HDAC6</td>\n",
       "      <td>0.236</td>\n",
       "      <td>23752268</td>\n",
       "    </tr>\n",
       "    <tr>\n",
       "      <th>4</th>\n",
       "      <td>Q9UBN7</td>\n",
       "      <td>HDAC6</td>\n",
       "      <td>Q9NX61</td>\n",
       "      <td>TMEM161A</td>\n",
       "      <td>0.236</td>\n",
       "      <td>26496610</td>\n",
       "    </tr>\n",
       "  </tbody>\n",
       "</table>\n",
       "</div>"
      ],
      "text/plain": [
       "  Protein A    Gene A Protein B    Gene B  Score                PMID\n",
       "0    Q9UBN7     HDAC6    Q9NQC7      CYLD  0.787  19893491 20593489 \n",
       "1    Q02078     MEF2A    P54198      HIRA  0.236           25609649 \n",
       "2    Q9UKX7     NUP50    Q9UBN7     HDAC6  0.236           23752268 \n",
       "3    Q9UBX3  SLC25A10    Q9UBN7     HDAC6  0.236           23752268 \n",
       "4    Q9UBN7     HDAC6    Q9NX61  TMEM161A  0.236           26496610 "
      ]
     },
     "execution_count": 46,
     "metadata": {},
     "output_type": "execute_result"
    }
   ],
   "source": [
    "mentha.head()"
   ]
  },
  {
   "cell_type": "code",
   "execution_count": 47,
   "metadata": {},
   "outputs": [],
   "source": [
    "mentha_subset = mentha.loc[(mentha['Gene A'].isin(rbp_id.index)) & (mentha['Gene B'].isin(rbp_id.index))]"
   ]
  },
  {
   "cell_type": "code",
   "execution_count": 48,
   "metadata": {},
   "outputs": [
    {
     "data": {
      "text/plain": [
       "(599, 6)"
      ]
     },
     "execution_count": 48,
     "metadata": {},
     "output_type": "execute_result"
    }
   ],
   "source": [
    "mentha_subset.shape"
   ]
  },
  {
   "cell_type": "code",
   "execution_count": 49,
   "metadata": {},
   "outputs": [],
   "source": [
    "mentha_subset.to_pickle('mentha.pickle')"
   ]
  },
  {
   "cell_type": "markdown",
   "metadata": {},
   "source": [
    "# Corum complex"
   ]
  },
  {
   "cell_type": "code",
   "execution_count": 50,
   "metadata": {},
   "outputs": [],
   "source": [
    "corum_complex = pd.read_csv(root_dir + 'allComplexes.txt', sep = '\\t')"
   ]
  },
  {
   "cell_type": "code",
   "execution_count": 51,
   "metadata": {},
   "outputs": [],
   "source": [
    "all_uniprot = set()\n",
    "_ = [all_uniprot.update(ids) for ids in rbp_id['uniprot.Swiss-Prot'] if type(ids) != float]"
   ]
  },
  {
   "cell_type": "code",
   "execution_count": 52,
   "metadata": {},
   "outputs": [],
   "source": [
    "selected_complex_index = []\n",
    "i = 0\n",
    "for complex_set in corum_complex['subunits(UniProt IDs)'].str.split(';').apply(set):\n",
    "    if len(complex_set.intersection(all_uniprot))>0:\n",
    "        selected_complex_index.append(i)\n",
    "    i+= 1\n"
   ]
  },
  {
   "cell_type": "code",
   "execution_count": 53,
   "metadata": {},
   "outputs": [],
   "source": [
    "corum_subset = corum_complex.loc[selected_complex_index]\n",
    "corum_subset['composition'] = corum_subset['subunits(Gene name)'].str.split(';')"
   ]
  },
  {
   "cell_type": "code",
   "execution_count": 54,
   "metadata": {},
   "outputs": [
    {
     "data": {
      "text/plain": [
       "(5, 21)"
      ]
     },
     "execution_count": 54,
     "metadata": {},
     "output_type": "execute_result"
    }
   ],
   "source": [
    "corum_subset.shape"
   ]
  },
  {
   "cell_type": "code",
   "execution_count": 55,
   "metadata": {},
   "outputs": [
    {
     "data": {
      "text/html": [
       "<div>\n",
       "<style scoped>\n",
       "    .dataframe tbody tr th:only-of-type {\n",
       "        vertical-align: middle;\n",
       "    }\n",
       "\n",
       "    .dataframe tbody tr th {\n",
       "        vertical-align: top;\n",
       "    }\n",
       "\n",
       "    .dataframe thead th {\n",
       "        text-align: right;\n",
       "    }\n",
       "</style>\n",
       "<table border=\"1\" class=\"dataframe\">\n",
       "  <thead>\n",
       "    <tr style=\"text-align: right;\">\n",
       "      <th></th>\n",
       "      <th>ComplexID</th>\n",
       "      <th>ComplexName</th>\n",
       "      <th>Organism</th>\n",
       "      <th>Synonyms</th>\n",
       "      <th>Cell line</th>\n",
       "      <th>subunits(UniProt IDs)</th>\n",
       "      <th>subunits(Entrez IDs)</th>\n",
       "      <th>Protein complex purification method</th>\n",
       "      <th>GO ID</th>\n",
       "      <th>GO description</th>\n",
       "      <th>...</th>\n",
       "      <th>FunCat description</th>\n",
       "      <th>subunits(Gene name)</th>\n",
       "      <th>Subunits comment</th>\n",
       "      <th>PubMed ID</th>\n",
       "      <th>Complex comment</th>\n",
       "      <th>Disease comment</th>\n",
       "      <th>SWISSPROT organism</th>\n",
       "      <th>subunits(Gene name syn)</th>\n",
       "      <th>subunits(Protein name)</th>\n",
       "      <th>composition</th>\n",
       "    </tr>\n",
       "  </thead>\n",
       "  <tbody>\n",
       "    <tr>\n",
       "      <th>314</th>\n",
       "      <td>351</td>\n",
       "      <td>Spliceosome</td>\n",
       "      <td>Human</td>\n",
       "      <td>U2-type spliceosome</td>\n",
       "      <td>None</td>\n",
       "      <td>O00425;O00571;O14776;O15042;O15355;O43143;O431...</td>\n",
       "      <td>10643;1654;10915;23350;5496;1665;9128;9092;912...</td>\n",
       "      <td>MI:0007- anti tag coimmunoprecipitation; MI:00...</td>\n",
       "      <td>GO:0008380;GO:0003723;GO:0005634</td>\n",
       "      <td>RNA splicing;RNA binding;nucleus</td>\n",
       "      <td>...</td>\n",
       "      <td>splicing;RNA binding;nucleus</td>\n",
       "      <td>IGF2BP3;DDX3X;TCERG1;U2SURP;PPM1G;DHX15;PRPF4;...</td>\n",
       "      <td>None</td>\n",
       "      <td>12226669</td>\n",
       "      <td>In eukaryotes, the removal of introns from nas...</td>\n",
       "      <td>None</td>\n",
       "      <td>Homo sapiens (Human);Homo sapiens (Human);Homo...</td>\n",
       "      <td>IMP3 KOC1 VICKZ3;DBX DDX3;CA150 TAF2S;KIAA0332...</td>\n",
       "      <td>Insulin-like growth factor 2 mRNA-binding prot...</td>\n",
       "      <td>[IGF2BP3, DDX3X, TCERG1, U2SURP, PPM1G, DHX15,...</td>\n",
       "    </tr>\n",
       "    <tr>\n",
       "      <th>1061</th>\n",
       "      <td>1141</td>\n",
       "      <td>CF IIAm complex (Cleavage factor IIAm complex)</td>\n",
       "      <td>Human</td>\n",
       "      <td>None</td>\n",
       "      <td>None</td>\n",
       "      <td>O43809;O60231;O94913;P19447;P23246;P26368;P265...</td>\n",
       "      <td>11051;8449;51585;2071;6421;11338;5725;4361;730...</td>\n",
       "      <td>MI:0226- ion exchange chromatography</td>\n",
       "      <td>GO:0031123;GO:0031124;GO:0005634</td>\n",
       "      <td>RNA 3'-end processing;mRNA 3'-end processing;n...</td>\n",
       "      <td>...</td>\n",
       "      <td>3'-end processing;nucleus</td>\n",
       "      <td>NUDT21;DHX16;PCF11;ERCC3;SFPQ;U2AF2;PTBP1;MRE1...</td>\n",
       "      <td>None</td>\n",
       "      <td>11060040</td>\n",
       "      <td>Eukaryotic mRNA precursors (pre-mRNAs) undergo...</td>\n",
       "      <td>None</td>\n",
       "      <td>Homo sapiens (Human);Homo sapiens (Human);Homo...</td>\n",
       "      <td>CFIM25 CPSF25 CPSF5;DBP2 DDX16 KIAA0577;KIAA08...</td>\n",
       "      <td>Cleavage and polyadenylation specificity facto...</td>\n",
       "      <td>[NUDT21, DHX16, PCF11, ERCC3, SFPQ, U2AF2, PTB...</td>\n",
       "    </tr>\n",
       "    <tr>\n",
       "      <th>1101</th>\n",
       "      <td>1181</td>\n",
       "      <td>C complex spliceosome</td>\n",
       "      <td>Human</td>\n",
       "      <td>None</td>\n",
       "      <td>None</td>\n",
       "      <td>O43290;O43390;O43660;O60306;O60506;O60508;O755...</td>\n",
       "      <td>9092;10236;5356;9716;10492;51362;23451;23020;2...</td>\n",
       "      <td>MI:0028- cosedimentation in solution; MI:0096-...</td>\n",
       "      <td>GO:0008380;GO:0003723;GO:0005634</td>\n",
       "      <td>RNA splicing;RNA binding;nucleus</td>\n",
       "      <td>...</td>\n",
       "      <td>splicing;RNA binding;nucleus</td>\n",
       "      <td>SART1;HNRNPR;PLRG1;AQR;SYNCRIP;CDC40;SF3B1;SNR...</td>\n",
       "      <td>None</td>\n",
       "      <td>11991638</td>\n",
       "      <td>In eukaryotes, the removal of introns from nas...</td>\n",
       "      <td>None</td>\n",
       "      <td>Homo sapiens (Human);Homo sapiens (Human);Homo...</td>\n",
       "      <td>;HNRPR;;KIAA0560;HNRPQ NSAP1;EHB3 PRP17 PRPF17...</td>\n",
       "      <td>U4/U6.U5 tri-snRNP-associated protein 1 ;Heter...</td>\n",
       "      <td>[SART1, HNRNPR, PLRG1, AQR, SYNCRIP, CDC40, SF...</td>\n",
       "    </tr>\n",
       "    <tr>\n",
       "      <th>1781</th>\n",
       "      <td>2755</td>\n",
       "      <td>17S U2 snRNP</td>\n",
       "      <td>Human</td>\n",
       "      <td>None</td>\n",
       "      <td>None</td>\n",
       "      <td>O15042;O43143;O75533;O75937;O75940;P08579;P096...</td>\n",
       "      <td>23350;1665;23451;22826;10285;6629;6627;3329;66...</td>\n",
       "      <td>MI:0019- coimmunoprecipitation</td>\n",
       "      <td>GO:0008380;GO:0005634</td>\n",
       "      <td>RNA splicing;nucleus</td>\n",
       "      <td>...</td>\n",
       "      <td>splicing;nucleus</td>\n",
       "      <td>U2SURP;DHX15;SF3B1;DNAJC8;SMNDC1;SNRPB2;SNRPA1...</td>\n",
       "      <td>None</td>\n",
       "      <td>12234937</td>\n",
       "      <td>Spliceosome assembly is initiated by the inter...</td>\n",
       "      <td>None</td>\n",
       "      <td>Homo sapiens (Human);Homo sapiens (Human);Homo...</td>\n",
       "      <td>KIAA0332 SR140;DBP1 DDX15;SAP155;SPF31;SMNR SP...</td>\n",
       "      <td>U2 snRNP-associated SURP motif-containing prot...</td>\n",
       "      <td>[U2SURP, DHX15, SF3B1, DNAJC8, SMNDC1, SNRPB2,...</td>\n",
       "    </tr>\n",
       "    <tr>\n",
       "      <th>2067</th>\n",
       "      <td>3055</td>\n",
       "      <td>Nop56p-associated pre-rRNA complex</td>\n",
       "      <td>Human</td>\n",
       "      <td>Nop56p-associated pre-ribosomal ribonucleoprot...</td>\n",
       "      <td>None</td>\n",
       "      <td>O00567;O76021;P05141;P05386;P05387;P05388;P067...</td>\n",
       "      <td>10528;26156;292;6176;6181;6175;4869;6218;3178;...</td>\n",
       "      <td>MI:0007- anti tag coimmunoprecipitation; MI:00...</td>\n",
       "      <td>GO:0042254;GO:0005634</td>\n",
       "      <td>ribosome biogenesis;nucleus</td>\n",
       "      <td>...</td>\n",
       "      <td>ribosome biogenesis;nucleus</td>\n",
       "      <td>NOP56;RSL1D1;SLC25A5;RPLP1;RPLP2;RPLP0;NPM1;RP...</td>\n",
       "      <td>None</td>\n",
       "      <td>12777385</td>\n",
       "      <td>Identification of pre-rRNA species within hNop...</td>\n",
       "      <td>None</td>\n",
       "      <td>Homo sapiens (Human);Homo sapiens (Human);Homo...</td>\n",
       "      <td>NOL5A;CATX11 CSIG PBK1;ANT2;RRP1;D11S2243E RPP...</td>\n",
       "      <td>Nucleolar protein 56 ;Ribosomal L1 domain-cont...</td>\n",
       "      <td>[NOP56, RSL1D1, SLC25A5, RPLP1, RPLP2, RPLP0, ...</td>\n",
       "    </tr>\n",
       "  </tbody>\n",
       "</table>\n",
       "<p>5 rows × 21 columns</p>\n",
       "</div>"
      ],
      "text/plain": [
       "      ComplexID                                     ComplexName Organism  \\\n",
       "314         351                                     Spliceosome    Human   \n",
       "1061       1141  CF IIAm complex (Cleavage factor IIAm complex)    Human   \n",
       "1101       1181                           C complex spliceosome    Human   \n",
       "1781       2755                                    17S U2 snRNP    Human   \n",
       "2067       3055              Nop56p-associated pre-rRNA complex    Human   \n",
       "\n",
       "                                               Synonyms Cell line  \\\n",
       "314                                 U2-type spliceosome      None   \n",
       "1061                                               None      None   \n",
       "1101                                               None      None   \n",
       "1781                                               None      None   \n",
       "2067  Nop56p-associated pre-ribosomal ribonucleoprot...      None   \n",
       "\n",
       "                                  subunits(UniProt IDs)  \\\n",
       "314   O00425;O00571;O14776;O15042;O15355;O43143;O431...   \n",
       "1061  O43809;O60231;O94913;P19447;P23246;P26368;P265...   \n",
       "1101  O43290;O43390;O43660;O60306;O60506;O60508;O755...   \n",
       "1781  O15042;O43143;O75533;O75937;O75940;P08579;P096...   \n",
       "2067  O00567;O76021;P05141;P05386;P05387;P05388;P067...   \n",
       "\n",
       "                                   subunits(Entrez IDs)  \\\n",
       "314   10643;1654;10915;23350;5496;1665;9128;9092;912...   \n",
       "1061  11051;8449;51585;2071;6421;11338;5725;4361;730...   \n",
       "1101  9092;10236;5356;9716;10492;51362;23451;23020;2...   \n",
       "1781  23350;1665;23451;22826;10285;6629;6627;3329;66...   \n",
       "2067  10528;26156;292;6176;6181;6175;4869;6218;3178;...   \n",
       "\n",
       "                    Protein complex purification method  \\\n",
       "314   MI:0007- anti tag coimmunoprecipitation; MI:00...   \n",
       "1061               MI:0226- ion exchange chromatography   \n",
       "1101  MI:0028- cosedimentation in solution; MI:0096-...   \n",
       "1781                     MI:0019- coimmunoprecipitation   \n",
       "2067  MI:0007- anti tag coimmunoprecipitation; MI:00...   \n",
       "\n",
       "                                 GO ID  \\\n",
       "314   GO:0008380;GO:0003723;GO:0005634   \n",
       "1061  GO:0031123;GO:0031124;GO:0005634   \n",
       "1101  GO:0008380;GO:0003723;GO:0005634   \n",
       "1781             GO:0008380;GO:0005634   \n",
       "2067             GO:0042254;GO:0005634   \n",
       "\n",
       "                                         GO description  ...  \\\n",
       "314                    RNA splicing;RNA binding;nucleus  ...   \n",
       "1061  RNA 3'-end processing;mRNA 3'-end processing;n...  ...   \n",
       "1101                   RNA splicing;RNA binding;nucleus  ...   \n",
       "1781                               RNA splicing;nucleus  ...   \n",
       "2067                        ribosome biogenesis;nucleus  ...   \n",
       "\n",
       "                FunCat description  \\\n",
       "314   splicing;RNA binding;nucleus   \n",
       "1061     3'-end processing;nucleus   \n",
       "1101  splicing;RNA binding;nucleus   \n",
       "1781              splicing;nucleus   \n",
       "2067   ribosome biogenesis;nucleus   \n",
       "\n",
       "                                    subunits(Gene name) Subunits comment  \\\n",
       "314   IGF2BP3;DDX3X;TCERG1;U2SURP;PPM1G;DHX15;PRPF4;...             None   \n",
       "1061  NUDT21;DHX16;PCF11;ERCC3;SFPQ;U2AF2;PTBP1;MRE1...             None   \n",
       "1101  SART1;HNRNPR;PLRG1;AQR;SYNCRIP;CDC40;SF3B1;SNR...             None   \n",
       "1781  U2SURP;DHX15;SF3B1;DNAJC8;SMNDC1;SNRPB2;SNRPA1...             None   \n",
       "2067  NOP56;RSL1D1;SLC25A5;RPLP1;RPLP2;RPLP0;NPM1;RP...             None   \n",
       "\n",
       "     PubMed ID                                    Complex comment  \\\n",
       "314   12226669  In eukaryotes, the removal of introns from nas...   \n",
       "1061  11060040  Eukaryotic mRNA precursors (pre-mRNAs) undergo...   \n",
       "1101  11991638  In eukaryotes, the removal of introns from nas...   \n",
       "1781  12234937  Spliceosome assembly is initiated by the inter...   \n",
       "2067  12777385  Identification of pre-rRNA species within hNop...   \n",
       "\n",
       "     Disease comment                                 SWISSPROT organism  \\\n",
       "314             None  Homo sapiens (Human);Homo sapiens (Human);Homo...   \n",
       "1061            None  Homo sapiens (Human);Homo sapiens (Human);Homo...   \n",
       "1101            None  Homo sapiens (Human);Homo sapiens (Human);Homo...   \n",
       "1781            None  Homo sapiens (Human);Homo sapiens (Human);Homo...   \n",
       "2067            None  Homo sapiens (Human);Homo sapiens (Human);Homo...   \n",
       "\n",
       "                                subunits(Gene name syn)  \\\n",
       "314   IMP3 KOC1 VICKZ3;DBX DDX3;CA150 TAF2S;KIAA0332...   \n",
       "1061  CFIM25 CPSF25 CPSF5;DBP2 DDX16 KIAA0577;KIAA08...   \n",
       "1101  ;HNRPR;;KIAA0560;HNRPQ NSAP1;EHB3 PRP17 PRPF17...   \n",
       "1781  KIAA0332 SR140;DBP1 DDX15;SAP155;SPF31;SMNR SP...   \n",
       "2067  NOL5A;CATX11 CSIG PBK1;ANT2;RRP1;D11S2243E RPP...   \n",
       "\n",
       "                                 subunits(Protein name)  \\\n",
       "314   Insulin-like growth factor 2 mRNA-binding prot...   \n",
       "1061  Cleavage and polyadenylation specificity facto...   \n",
       "1101  U4/U6.U5 tri-snRNP-associated protein 1 ;Heter...   \n",
       "1781  U2 snRNP-associated SURP motif-containing prot...   \n",
       "2067  Nucleolar protein 56 ;Ribosomal L1 domain-cont...   \n",
       "\n",
       "                                            composition  \n",
       "314   [IGF2BP3, DDX3X, TCERG1, U2SURP, PPM1G, DHX15,...  \n",
       "1061  [NUDT21, DHX16, PCF11, ERCC3, SFPQ, U2AF2, PTB...  \n",
       "1101  [SART1, HNRNPR, PLRG1, AQR, SYNCRIP, CDC40, SF...  \n",
       "1781  [U2SURP, DHX15, SF3B1, DNAJC8, SMNDC1, SNRPB2,...  \n",
       "2067  [NOP56, RSL1D1, SLC25A5, RPLP1, RPLP2, RPLP0, ...  \n",
       "\n",
       "[5 rows x 21 columns]"
      ]
     },
     "execution_count": 55,
     "metadata": {},
     "output_type": "execute_result"
    }
   ],
   "source": [
    "corum_subset.head()"
   ]
  },
  {
   "cell_type": "code",
   "execution_count": 56,
   "metadata": {},
   "outputs": [],
   "source": [
    "corum_subset.to_pickle('corum.pickle')"
   ]
  },
  {
   "cell_type": "markdown",
   "metadata": {},
   "source": [
    "# ribosome"
   ]
  },
  {
   "cell_type": "code",
   "execution_count": 57,
   "metadata": {},
   "outputs": [],
   "source": [
    "ribosome = pd.read_csv('protein_class_Ribosomal.tsv', header = 0, sep  = '\\t')"
   ]
  },
  {
   "cell_type": "code",
   "execution_count": 58,
   "metadata": {},
   "outputs": [
    {
     "data": {
      "text/html": [
       "<div>\n",
       "<style scoped>\n",
       "    .dataframe tbody tr th:only-of-type {\n",
       "        vertical-align: middle;\n",
       "    }\n",
       "\n",
       "    .dataframe tbody tr th {\n",
       "        vertical-align: top;\n",
       "    }\n",
       "\n",
       "    .dataframe thead th {\n",
       "        text-align: right;\n",
       "    }\n",
       "</style>\n",
       "<table border=\"1\" class=\"dataframe\">\n",
       "  <thead>\n",
       "    <tr style=\"text-align: right;\">\n",
       "      <th></th>\n",
       "      <th>Gene</th>\n",
       "      <th>Gene synonym</th>\n",
       "      <th>Ensembl</th>\n",
       "      <th>Gene description</th>\n",
       "      <th>Uniprot</th>\n",
       "      <th>Chromosome</th>\n",
       "      <th>Position</th>\n",
       "      <th>Protein class</th>\n",
       "      <th>Biological process</th>\n",
       "      <th>Molecular function</th>\n",
       "      <th>...</th>\n",
       "      <th>Brain RNA - amygdala [NX]</th>\n",
       "      <th>Brain RNA - basal ganglia [NX]</th>\n",
       "      <th>Brain RNA - cerebellum [NX]</th>\n",
       "      <th>Brain RNA - cerebral cortex [NX]</th>\n",
       "      <th>Brain RNA - hippocampal formation [NX]</th>\n",
       "      <th>Brain RNA - hypothalamus [NX]</th>\n",
       "      <th>Brain RNA - midbrain [NX]</th>\n",
       "      <th>Brain RNA - olfactory region [NX]</th>\n",
       "      <th>Brain RNA - pons and medulla [NX]</th>\n",
       "      <th>Brain RNA - thalamus [NX]</th>\n",
       "    </tr>\n",
       "  </thead>\n",
       "  <tbody>\n",
       "    <tr>\n",
       "      <th>0</th>\n",
       "      <td>AURKAIP1</td>\n",
       "      <td>AIP, AKIP, FLJ20608</td>\n",
       "      <td>ENSG00000175756</td>\n",
       "      <td>Aurora kinase A interacting protein 1</td>\n",
       "      <td>Q9NWT8</td>\n",
       "      <td>1</td>\n",
       "      <td>1373730-1375495</td>\n",
       "      <td>Predicted intracellular proteins, Ribosomal pr...</td>\n",
       "      <td>NaN</td>\n",
       "      <td>Ribonucleoprotein, Ribosomal protein</td>\n",
       "      <td>...</td>\n",
       "      <td>30.3</td>\n",
       "      <td>30.5</td>\n",
       "      <td>17.8</td>\n",
       "      <td>40.5</td>\n",
       "      <td>25.3</td>\n",
       "      <td>23.4</td>\n",
       "      <td>29.0</td>\n",
       "      <td>23.0</td>\n",
       "      <td>21.9</td>\n",
       "      <td>12.6</td>\n",
       "    </tr>\n",
       "    <tr>\n",
       "      <th>1</th>\n",
       "      <td>CHCHD1</td>\n",
       "      <td>C10orf34, FLJ25854</td>\n",
       "      <td>ENSG00000172586</td>\n",
       "      <td>Coiled-coil-helix-coiled-coil-helix domain con...</td>\n",
       "      <td>Q96BP2</td>\n",
       "      <td>10</td>\n",
       "      <td>73782047-73783652</td>\n",
       "      <td>Predicted intracellular proteins, Ribosomal pr...</td>\n",
       "      <td>NaN</td>\n",
       "      <td>Ribonucleoprotein, Ribosomal protein</td>\n",
       "      <td>...</td>\n",
       "      <td>22.6</td>\n",
       "      <td>21.5</td>\n",
       "      <td>21.3</td>\n",
       "      <td>29.4</td>\n",
       "      <td>19.3</td>\n",
       "      <td>18.4</td>\n",
       "      <td>19.4</td>\n",
       "      <td>20.9</td>\n",
       "      <td>21.2</td>\n",
       "      <td>15.6</td>\n",
       "    </tr>\n",
       "    <tr>\n",
       "      <th>2</th>\n",
       "      <td>DAP3</td>\n",
       "      <td>bMRP-10, DAP-3, DKFZp686G12159, MGC126058, MGC...</td>\n",
       "      <td>ENSG00000132676</td>\n",
       "      <td>Death associated protein 3</td>\n",
       "      <td>P51398</td>\n",
       "      <td>1</td>\n",
       "      <td>155687960-155739010</td>\n",
       "      <td>Plasma proteins, Predicted intracellular prote...</td>\n",
       "      <td>Apoptosis</td>\n",
       "      <td>Ribonucleoprotein, Ribosomal protein</td>\n",
       "      <td>...</td>\n",
       "      <td>22.9</td>\n",
       "      <td>25.9</td>\n",
       "      <td>19.5</td>\n",
       "      <td>23.6</td>\n",
       "      <td>27.0</td>\n",
       "      <td>26.4</td>\n",
       "      <td>24.9</td>\n",
       "      <td>23.0</td>\n",
       "      <td>23.0</td>\n",
       "      <td>21.1</td>\n",
       "    </tr>\n",
       "    <tr>\n",
       "      <th>3</th>\n",
       "      <td>FAU</td>\n",
       "      <td>asr1, FLJ22986, Fub1, Fubi, MNSFbeta, RPS30, S30</td>\n",
       "      <td>ENSG00000149806</td>\n",
       "      <td>FAU, ubiquitin like and ribosomal protein S30 ...</td>\n",
       "      <td>P35544, P62861</td>\n",
       "      <td>11</td>\n",
       "      <td>65120628-65122473</td>\n",
       "      <td>Plasma proteins, Predicted intracellular prote...</td>\n",
       "      <td>NaN</td>\n",
       "      <td>Ribonucleoprotein, Ribosomal protein</td>\n",
       "      <td>...</td>\n",
       "      <td>90.6</td>\n",
       "      <td>76.2</td>\n",
       "      <td>50.9</td>\n",
       "      <td>80.9</td>\n",
       "      <td>70.0</td>\n",
       "      <td>58.9</td>\n",
       "      <td>78.9</td>\n",
       "      <td>40.8</td>\n",
       "      <td>46.6</td>\n",
       "      <td>53.2</td>\n",
       "    </tr>\n",
       "    <tr>\n",
       "      <th>4</th>\n",
       "      <td>GADD45GIP1</td>\n",
       "      <td>CKBBP2, CKbetaBP2, CRIF1, MGC4667, MGC4758, PL...</td>\n",
       "      <td>ENSG00000179271</td>\n",
       "      <td>GADD45G interacting protein 1</td>\n",
       "      <td>Q8TAE8</td>\n",
       "      <td>19</td>\n",
       "      <td>12953119-12957236</td>\n",
       "      <td>Predicted intracellular proteins, Ribosomal pr...</td>\n",
       "      <td>Cell cycle, Host-virus interaction</td>\n",
       "      <td>Ribonucleoprotein, Ribosomal protein</td>\n",
       "      <td>...</td>\n",
       "      <td>32.7</td>\n",
       "      <td>29.1</td>\n",
       "      <td>17.2</td>\n",
       "      <td>29.1</td>\n",
       "      <td>26.4</td>\n",
       "      <td>27.6</td>\n",
       "      <td>26.0</td>\n",
       "      <td>23.6</td>\n",
       "      <td>17.7</td>\n",
       "      <td>17.1</td>\n",
       "    </tr>\n",
       "  </tbody>\n",
       "</table>\n",
       "<p>5 rows × 230 columns</p>\n",
       "</div>"
      ],
      "text/plain": [
       "         Gene                                       Gene synonym  \\\n",
       "0    AURKAIP1                                AIP, AKIP, FLJ20608   \n",
       "1      CHCHD1                                 C10orf34, FLJ25854   \n",
       "2        DAP3  bMRP-10, DAP-3, DKFZp686G12159, MGC126058, MGC...   \n",
       "3         FAU   asr1, FLJ22986, Fub1, Fubi, MNSFbeta, RPS30, S30   \n",
       "4  GADD45GIP1  CKBBP2, CKbetaBP2, CRIF1, MGC4667, MGC4758, PL...   \n",
       "\n",
       "           Ensembl                                   Gene description  \\\n",
       "0  ENSG00000175756              Aurora kinase A interacting protein 1   \n",
       "1  ENSG00000172586  Coiled-coil-helix-coiled-coil-helix domain con...   \n",
       "2  ENSG00000132676                         Death associated protein 3   \n",
       "3  ENSG00000149806  FAU, ubiquitin like and ribosomal protein S30 ...   \n",
       "4  ENSG00000179271                      GADD45G interacting protein 1   \n",
       "\n",
       "          Uniprot Chromosome             Position  \\\n",
       "0          Q9NWT8          1      1373730-1375495   \n",
       "1          Q96BP2         10    73782047-73783652   \n",
       "2          P51398          1  155687960-155739010   \n",
       "3  P35544, P62861         11    65120628-65122473   \n",
       "4          Q8TAE8         19    12953119-12957236   \n",
       "\n",
       "                                       Protein class  \\\n",
       "0  Predicted intracellular proteins, Ribosomal pr...   \n",
       "1  Predicted intracellular proteins, Ribosomal pr...   \n",
       "2  Plasma proteins, Predicted intracellular prote...   \n",
       "3  Plasma proteins, Predicted intracellular prote...   \n",
       "4  Predicted intracellular proteins, Ribosomal pr...   \n",
       "\n",
       "                   Biological process                    Molecular function  \\\n",
       "0                                 NaN  Ribonucleoprotein, Ribosomal protein   \n",
       "1                                 NaN  Ribonucleoprotein, Ribosomal protein   \n",
       "2                           Apoptosis  Ribonucleoprotein, Ribosomal protein   \n",
       "3                                 NaN  Ribonucleoprotein, Ribosomal protein   \n",
       "4  Cell cycle, Host-virus interaction  Ribonucleoprotein, Ribosomal protein   \n",
       "\n",
       "   ... Brain RNA - amygdala [NX] Brain RNA - basal ganglia [NX]  \\\n",
       "0  ...                      30.3                           30.5   \n",
       "1  ...                      22.6                           21.5   \n",
       "2  ...                      22.9                           25.9   \n",
       "3  ...                      90.6                           76.2   \n",
       "4  ...                      32.7                           29.1   \n",
       "\n",
       "  Brain RNA - cerebellum [NX] Brain RNA - cerebral cortex [NX]  \\\n",
       "0                        17.8                             40.5   \n",
       "1                        21.3                             29.4   \n",
       "2                        19.5                             23.6   \n",
       "3                        50.9                             80.9   \n",
       "4                        17.2                             29.1   \n",
       "\n",
       "  Brain RNA - hippocampal formation [NX] Brain RNA - hypothalamus [NX]  \\\n",
       "0                                   25.3                          23.4   \n",
       "1                                   19.3                          18.4   \n",
       "2                                   27.0                          26.4   \n",
       "3                                   70.0                          58.9   \n",
       "4                                   26.4                          27.6   \n",
       "\n",
       "  Brain RNA - midbrain [NX] Brain RNA - olfactory region [NX]  \\\n",
       "0                      29.0                              23.0   \n",
       "1                      19.4                              20.9   \n",
       "2                      24.9                              23.0   \n",
       "3                      78.9                              40.8   \n",
       "4                      26.0                              23.6   \n",
       "\n",
       "   Brain RNA - pons and medulla [NX] Brain RNA - thalamus [NX]  \n",
       "0                               21.9                      12.6  \n",
       "1                               21.2                      15.6  \n",
       "2                               23.0                      21.1  \n",
       "3                               46.6                      53.2  \n",
       "4                               17.7                      17.1  \n",
       "\n",
       "[5 rows x 230 columns]"
      ]
     },
     "execution_count": 58,
     "metadata": {},
     "output_type": "execute_result"
    }
   ],
   "source": [
    "ribosome.head()"
   ]
  },
  {
   "cell_type": "code",
   "execution_count": 59,
   "metadata": {},
   "outputs": [
    {
     "data": {
      "text/html": [
       "<div>\n",
       "<style scoped>\n",
       "    .dataframe tbody tr th:only-of-type {\n",
       "        vertical-align: middle;\n",
       "    }\n",
       "\n",
       "    .dataframe tbody tr th {\n",
       "        vertical-align: top;\n",
       "    }\n",
       "\n",
       "    .dataframe thead th {\n",
       "        text-align: right;\n",
       "    }\n",
       "</style>\n",
       "<table border=\"1\" class=\"dataframe\">\n",
       "  <thead>\n",
       "    <tr style=\"text-align: right;\">\n",
       "      <th></th>\n",
       "      <th>HGNC</th>\n",
       "      <th>MIM</th>\n",
       "      <th>_id</th>\n",
       "      <th>_score</th>\n",
       "      <th>alias</th>\n",
       "      <th>entrezgene</th>\n",
       "      <th>exons</th>\n",
       "      <th>exons_hg19</th>\n",
       "      <th>generif</th>\n",
       "      <th>interpro</th>\n",
       "      <th>...</th>\n",
       "      <th>go.BP.pubmed</th>\n",
       "      <th>go.CC.evidence</th>\n",
       "      <th>go.CC.gocategory</th>\n",
       "      <th>go.CC.id</th>\n",
       "      <th>go.CC.pubmed</th>\n",
       "      <th>go.CC.term</th>\n",
       "      <th>reagent.CondMedia_CM_LibrAB.id</th>\n",
       "      <th>reagent.CondMedia_CM_LibrAB.relationship</th>\n",
       "      <th>esnp</th>\n",
       "      <th>esnt</th>\n",
       "    </tr>\n",
       "    <tr>\n",
       "      <th>query</th>\n",
       "      <th></th>\n",
       "      <th></th>\n",
       "      <th></th>\n",
       "      <th></th>\n",
       "      <th></th>\n",
       "      <th></th>\n",
       "      <th></th>\n",
       "      <th></th>\n",
       "      <th></th>\n",
       "      <th></th>\n",
       "      <th></th>\n",
       "      <th></th>\n",
       "      <th></th>\n",
       "      <th></th>\n",
       "      <th></th>\n",
       "      <th></th>\n",
       "      <th></th>\n",
       "      <th></th>\n",
       "      <th></th>\n",
       "      <th></th>\n",
       "      <th></th>\n",
       "    </tr>\n",
       "  </thead>\n",
       "  <tbody>\n",
       "    <tr>\n",
       "      <th>RPS3</th>\n",
       "      <td>10420</td>\n",
       "      <td>600454</td>\n",
       "      <td>6188</td>\n",
       "      <td>65.41434</td>\n",
       "      <td>S3</td>\n",
       "      <td>6188</td>\n",
       "      <td>[{'cdsend': 75404865, 'cdsstart': 75399547, 'c...</td>\n",
       "      <td>[{'cdsend': 75115909, 'cdsstart': 75110591, 'c...</td>\n",
       "      <td>[{'pubmed': 11911468, 'text': 'Electron parama...</td>\n",
       "      <td>[{'desc': 'Ribosomal protein S3, C-terminal', ...</td>\n",
       "      <td>...</td>\n",
       "      <td>NaN</td>\n",
       "      <td>NaN</td>\n",
       "      <td>NaN</td>\n",
       "      <td>NaN</td>\n",
       "      <td>NaN</td>\n",
       "      <td>NaN</td>\n",
       "      <td>NaN</td>\n",
       "      <td>NaN</td>\n",
       "      <td>{ENSP00000436556, ENSP00000435457, ENSP0000027...</td>\n",
       "      <td>{ENST00000528439, ENST00000529285, ENST0000052...</td>\n",
       "    </tr>\n",
       "    <tr>\n",
       "      <th>RPS11</th>\n",
       "      <td>10384</td>\n",
       "      <td>180471</td>\n",
       "      <td>6205</td>\n",
       "      <td>66.05609</td>\n",
       "      <td>S11</td>\n",
       "      <td>6205</td>\n",
       "      <td>[{'cdsend': 49499635, 'cdsstart': 49496456, 'c...</td>\n",
       "      <td>[{'cdsend': 50002892, 'cdsstart': 49999713, 'c...</td>\n",
       "      <td>[{'pubmed': 26506620, 'text': 'increased expre...</td>\n",
       "      <td>[{'desc': 'Ribosomal protein S17/S11', 'id': '...</td>\n",
       "      <td>...</td>\n",
       "      <td>NaN</td>\n",
       "      <td>NaN</td>\n",
       "      <td>NaN</td>\n",
       "      <td>NaN</td>\n",
       "      <td>NaN</td>\n",
       "      <td>NaN</td>\n",
       "      <td>NaN</td>\n",
       "      <td>NaN</td>\n",
       "      <td>{ENSP00000270625, ENSP00000471873, ENSP0000047...</td>\n",
       "      <td>{ENST00000599561, ENST00000594493, ENST0000060...</td>\n",
       "    </tr>\n",
       "  </tbody>\n",
       "</table>\n",
       "<p>2 rows × 219 columns</p>\n",
       "</div>"
      ],
      "text/plain": [
       "        HGNC     MIM   _id    _score alias entrezgene  \\\n",
       "query                                                   \n",
       "RPS3   10420  600454  6188  65.41434    S3       6188   \n",
       "RPS11  10384  180471  6205  66.05609   S11       6205   \n",
       "\n",
       "                                                   exons  \\\n",
       "query                                                      \n",
       "RPS3   [{'cdsend': 75404865, 'cdsstart': 75399547, 'c...   \n",
       "RPS11  [{'cdsend': 49499635, 'cdsstart': 49496456, 'c...   \n",
       "\n",
       "                                              exons_hg19  \\\n",
       "query                                                      \n",
       "RPS3   [{'cdsend': 75115909, 'cdsstart': 75110591, 'c...   \n",
       "RPS11  [{'cdsend': 50002892, 'cdsstart': 49999713, 'c...   \n",
       "\n",
       "                                                 generif  \\\n",
       "query                                                      \n",
       "RPS3   [{'pubmed': 11911468, 'text': 'Electron parama...   \n",
       "RPS11  [{'pubmed': 26506620, 'text': 'increased expre...   \n",
       "\n",
       "                                                interpro  ... go.BP.pubmed  \\\n",
       "query                                                     ...                \n",
       "RPS3   [{'desc': 'Ribosomal protein S3, C-terminal', ...  ...          NaN   \n",
       "RPS11  [{'desc': 'Ribosomal protein S17/S11', 'id': '...  ...          NaN   \n",
       "\n",
       "      go.CC.evidence go.CC.gocategory go.CC.id go.CC.pubmed go.CC.term  \\\n",
       "query                                                                    \n",
       "RPS3             NaN              NaN      NaN          NaN        NaN   \n",
       "RPS11            NaN              NaN      NaN          NaN        NaN   \n",
       "\n",
       "      reagent.CondMedia_CM_LibrAB.id reagent.CondMedia_CM_LibrAB.relationship  \\\n",
       "query                                                                           \n",
       "RPS3                             NaN                                      NaN   \n",
       "RPS11                            NaN                                      NaN   \n",
       "\n",
       "                                                    esnp  \\\n",
       "query                                                      \n",
       "RPS3   {ENSP00000436556, ENSP00000435457, ENSP0000027...   \n",
       "RPS11  {ENSP00000270625, ENSP00000471873, ENSP0000047...   \n",
       "\n",
       "                                                    esnt  \n",
       "query                                                     \n",
       "RPS3   {ENST00000528439, ENST00000529285, ENST0000052...  \n",
       "RPS11  {ENST00000599561, ENST00000594493, ENST0000060...  \n",
       "\n",
       "[2 rows x 219 columns]"
      ]
     },
     "execution_count": 59,
     "metadata": {},
     "output_type": "execute_result"
    }
   ],
   "source": [
    "rbp_id.loc[rbp_id['ensembl.gene'].isin(ribosome['Ensembl'])]"
   ]
  },
  {
   "cell_type": "markdown",
   "metadata": {},
   "source": [
    "# splicesome"
   ]
  },
  {
   "cell_type": "code",
   "execution_count": 60,
   "metadata": {},
   "outputs": [],
   "source": [
    "splicesome = pd.read_csv('splicesome_proteins.csv', header = 0)"
   ]
  },
  {
   "cell_type": "code",
   "execution_count": 61,
   "metadata": {},
   "outputs": [
    {
     "data": {
      "text/html": [
       "<div>\n",
       "<style scoped>\n",
       "    .dataframe tbody tr th:only-of-type {\n",
       "        vertical-align: middle;\n",
       "    }\n",
       "\n",
       "    .dataframe tbody tr th {\n",
       "        vertical-align: top;\n",
       "    }\n",
       "\n",
       "    .dataframe thead th {\n",
       "        text-align: right;\n",
       "    }\n",
       "</style>\n",
       "<table border=\"1\" class=\"dataframe\">\n",
       "  <thead>\n",
       "    <tr style=\"text-align: right;\">\n",
       "      <th></th>\n",
       "      <th>Gene Symbol</th>\n",
       "      <th>Complex</th>\n",
       "      <th>Class / family</th>\n",
       "      <th>Full name from Entrez</th>\n",
       "      <th>More Aliases from Entrez</th>\n",
       "      <th>Organism</th>\n",
       "      <th>Ensemble Gene ID</th>\n",
       "      <th>Molecular weight from SwissProt</th>\n",
       "      <th>Domains from SwissProt</th>\n",
       "      <th>Motifs from SwissProt</th>\n",
       "      <th>Entrez Gene ID</th>\n",
       "      <th>Full Gene Name from Entrez</th>\n",
       "      <th>UniProt Entry Name</th>\n",
       "      <th>Other UniProt Accessions</th>\n",
       "      <th>Pdbs</th>\n",
       "      <th>Compositional AA Bias from SwissProt</th>\n",
       "    </tr>\n",
       "  </thead>\n",
       "  <tbody>\n",
       "    <tr>\n",
       "      <th>0</th>\n",
       "      <td>SNRPB</td>\n",
       "      <td>17S U2 snRNP, A complex, B complex, Bact compl...</td>\n",
       "      <td>Sm</td>\n",
       "      <td>small nuclear ribonucleoprotein polypeptides B...</td>\n",
       "      <td>B polypeptide of Sm protein, Sm protein B/B', ...</td>\n",
       "      <td>H. sapiens</td>\n",
       "      <td>ENSG00000125835</td>\n",
       "      <td>24610</td>\n",
       "      <td>NaN</td>\n",
       "      <td>NaN</td>\n",
       "      <td>6628</td>\n",
       "      <td>small nuclear ribonucleoprotein polypeptides B...</td>\n",
       "      <td>RSMB_HUMAN</td>\n",
       "      <td>P14678, Q15490, Q6IB35, Q9UIS5</td>\n",
       "      <td>1D3B, 2Y9A, 2Y9B, 2Y9C, 2Y9D</td>\n",
       "      <td>NaN</td>\n",
       "    </tr>\n",
       "    <tr>\n",
       "      <th>1</th>\n",
       "      <td>SNRPD1</td>\n",
       "      <td>17S U2 snRNP, A complex, B complex, Bact compl...</td>\n",
       "      <td>Sm</td>\n",
       "      <td>small nuclear ribonucleoprotein D1 polypeptide...</td>\n",
       "      <td>Sm-D autoantigen, small nuclear ribonucleoprot...</td>\n",
       "      <td>H. sapiens</td>\n",
       "      <td>ENSG00000167088</td>\n",
       "      <td>13282</td>\n",
       "      <td>NaN</td>\n",
       "      <td>NaN</td>\n",
       "      <td>6632</td>\n",
       "      <td>small nuclear ribonucleoprotein D1 polypeptide...</td>\n",
       "      <td>SMD1_HUMAN</td>\n",
       "      <td>P62314, B5BTZ1, P13641</td>\n",
       "      <td>1B34, 2Y9A, 2Y9B, 2Y9C, 2Y9D</td>\n",
       "      <td>Arg/Lys-rich (basic)</td>\n",
       "    </tr>\n",
       "    <tr>\n",
       "      <th>2</th>\n",
       "      <td>SNRPD2</td>\n",
       "      <td>17S U2 snRNP, A complex, B complex, Bact compl...</td>\n",
       "      <td>Sm</td>\n",
       "      <td>small nuclear ribonucleoprotein D2 polypeptide...</td>\n",
       "      <td>small nuclear ribonucleoprotein Sm D2, snRNP c...</td>\n",
       "      <td>H. sapiens</td>\n",
       "      <td>ENSG00000125743</td>\n",
       "      <td>13527</td>\n",
       "      <td>NaN</td>\n",
       "      <td>NaN</td>\n",
       "      <td>6633</td>\n",
       "      <td>small nuclear ribonucleoprotein D2 polypeptide...</td>\n",
       "      <td>SMD2_HUMAN</td>\n",
       "      <td>P62316, A8K797, P43330</td>\n",
       "      <td>1B34, 2Y9A, 2Y9B, 2Y9C, 2Y9D</td>\n",
       "      <td>NaN</td>\n",
       "    </tr>\n",
       "    <tr>\n",
       "      <th>3</th>\n",
       "      <td>SNRPD3</td>\n",
       "      <td>17S U2 snRNP, A complex, B complex, Bact compl...</td>\n",
       "      <td>Sm</td>\n",
       "      <td>small nuclear ribonucleoprotein D3 polypeptide...</td>\n",
       "      <td>small nuclear ribonucleoprotein Sm D3, small n...</td>\n",
       "      <td>H. sapiens</td>\n",
       "      <td>ENSG00000100028</td>\n",
       "      <td>13916</td>\n",
       "      <td>NaN</td>\n",
       "      <td>NaN</td>\n",
       "      <td>6634</td>\n",
       "      <td>small nuclear ribonucleoprotein D3 polypeptide...</td>\n",
       "      <td>SMD3_HUMAN</td>\n",
       "      <td>P62318, B5BU13, P43331</td>\n",
       "      <td>1D3B, 2Y9A, 2Y9B, 2Y9C, 2Y9D</td>\n",
       "      <td>Arg/Lys-rich (basic)</td>\n",
       "    </tr>\n",
       "    <tr>\n",
       "      <th>4</th>\n",
       "      <td>SNRPE</td>\n",
       "      <td>17S U2 snRNP, A complex, B complex, Bact compl...</td>\n",
       "      <td>Sm</td>\n",
       "      <td>small nuclear ribonucleoprotein polypeptide E</td>\n",
       "      <td>sm protein E, small nuclear ribonucleoprotein ...</td>\n",
       "      <td>H. sapiens</td>\n",
       "      <td>ENSG00000182004</td>\n",
       "      <td>10804</td>\n",
       "      <td>NaN</td>\n",
       "      <td>NaN</td>\n",
       "      <td>6635</td>\n",
       "      <td>small nuclear ribonucleoprotein polypeptide E</td>\n",
       "      <td>RUXE_HUMAN</td>\n",
       "      <td>P62304, B2R5B9, P08578, Q15498, Q5BKT2</td>\n",
       "      <td>2Y9A, 2Y9B, 2Y9C, 2Y9D, 3CW1</td>\n",
       "      <td>NaN</td>\n",
       "    </tr>\n",
       "  </tbody>\n",
       "</table>\n",
       "</div>"
      ],
      "text/plain": [
       "  Gene Symbol                                            Complex  \\\n",
       "0       SNRPB  17S U2 snRNP, A complex, B complex, Bact compl...   \n",
       "1      SNRPD1  17S U2 snRNP, A complex, B complex, Bact compl...   \n",
       "2      SNRPD2  17S U2 snRNP, A complex, B complex, Bact compl...   \n",
       "3      SNRPD3  17S U2 snRNP, A complex, B complex, Bact compl...   \n",
       "4       SNRPE  17S U2 snRNP, A complex, B complex, Bact compl...   \n",
       "\n",
       "  Class / family                              Full name from Entrez  \\\n",
       "0             Sm  small nuclear ribonucleoprotein polypeptides B...   \n",
       "1             Sm  small nuclear ribonucleoprotein D1 polypeptide...   \n",
       "2             Sm  small nuclear ribonucleoprotein D2 polypeptide...   \n",
       "3             Sm  small nuclear ribonucleoprotein D3 polypeptide...   \n",
       "4             Sm      small nuclear ribonucleoprotein polypeptide E   \n",
       "\n",
       "                            More Aliases from Entrez    Organism  \\\n",
       "0  B polypeptide of Sm protein, Sm protein B/B', ...  H. sapiens   \n",
       "1  Sm-D autoantigen, small nuclear ribonucleoprot...  H. sapiens   \n",
       "2  small nuclear ribonucleoprotein Sm D2, snRNP c...  H. sapiens   \n",
       "3  small nuclear ribonucleoprotein Sm D3, small n...  H. sapiens   \n",
       "4  sm protein E, small nuclear ribonucleoprotein ...  H. sapiens   \n",
       "\n",
       "  Ensemble Gene ID Molecular weight from SwissProt Domains from SwissProt  \\\n",
       "0  ENSG00000125835                           24610                    NaN   \n",
       "1  ENSG00000167088                           13282                    NaN   \n",
       "2  ENSG00000125743                           13527                    NaN   \n",
       "3  ENSG00000100028                           13916                    NaN   \n",
       "4  ENSG00000182004                           10804                    NaN   \n",
       "\n",
       "  Motifs from SwissProt  Entrez Gene ID  \\\n",
       "0                   NaN            6628   \n",
       "1                   NaN            6632   \n",
       "2                   NaN            6633   \n",
       "3                   NaN            6634   \n",
       "4                   NaN            6635   \n",
       "\n",
       "                          Full Gene Name from Entrez UniProt Entry Name  \\\n",
       "0  small nuclear ribonucleoprotein polypeptides B...         RSMB_HUMAN   \n",
       "1  small nuclear ribonucleoprotein D1 polypeptide...         SMD1_HUMAN   \n",
       "2  small nuclear ribonucleoprotein D2 polypeptide...         SMD2_HUMAN   \n",
       "3  small nuclear ribonucleoprotein D3 polypeptide...         SMD3_HUMAN   \n",
       "4      small nuclear ribonucleoprotein polypeptide E         RUXE_HUMAN   \n",
       "\n",
       "                 Other UniProt Accessions                          Pdbs  \\\n",
       "0          P14678, Q15490, Q6IB35, Q9UIS5  1D3B, 2Y9A, 2Y9B, 2Y9C, 2Y9D   \n",
       "1                  P62314, B5BTZ1, P13641  1B34, 2Y9A, 2Y9B, 2Y9C, 2Y9D   \n",
       "2                  P62316, A8K797, P43330  1B34, 2Y9A, 2Y9B, 2Y9C, 2Y9D   \n",
       "3                  P62318, B5BU13, P43331  1D3B, 2Y9A, 2Y9B, 2Y9C, 2Y9D   \n",
       "4  P62304, B2R5B9, P08578, Q15498, Q5BKT2  2Y9A, 2Y9B, 2Y9C, 2Y9D, 3CW1   \n",
       "\n",
       "  Compositional AA Bias from SwissProt  \n",
       "0                                  NaN  \n",
       "1                 Arg/Lys-rich (basic)  \n",
       "2                                  NaN  \n",
       "3                 Arg/Lys-rich (basic)  \n",
       "4                                  NaN  "
      ]
     },
     "execution_count": 61,
     "metadata": {},
     "output_type": "execute_result"
    }
   ],
   "source": [
    "splicesome.head()"
   ]
  },
  {
   "cell_type": "code",
   "execution_count": 62,
   "metadata": {},
   "outputs": [],
   "source": [
    "all_splice_complex = set()\n",
    "_ = [all_splice_complex.update(s) for s in splicesome['Complex'].str.split(', ') if type(s) == list]"
   ]
  },
  {
   "cell_type": "code",
   "execution_count": 63,
   "metadata": {},
   "outputs": [
    {
     "data": {
      "text/plain": [
       "{'17S U2 snRNP',\n",
       " 'A complex',\n",
       " 'B complex',\n",
       " 'Bact complex',\n",
       " 'C complex',\n",
       " 'P complex',\n",
       " 'U1 snRNP',\n",
       " 'U4/U6 snRNP',\n",
       " 'U5 snRNP',\n",
       " 'tri-snRNP'}"
      ]
     },
     "execution_count": 63,
     "metadata": {},
     "output_type": "execute_result"
    }
   ],
   "source": [
    "all_splice_complex"
   ]
  },
  {
   "cell_type": "markdown",
   "metadata": {},
   "source": [
    "## Splicesome annotations are different"
   ]
  },
  {
   "cell_type": "code",
   "execution_count": 64,
   "metadata": {},
   "outputs": [],
   "source": [
    "u2 = splicesome.loc[(splicesome['Complex'].notnull()) & (splicesome['Complex'].str.contains('17S U2 snRN'))]"
   ]
  },
  {
   "cell_type": "code",
   "execution_count": 65,
   "metadata": {},
   "outputs": [
    {
     "data": {
      "text/plain": [
       "(22, 16)"
      ]
     },
     "execution_count": 65,
     "metadata": {},
     "output_type": "execute_result"
    }
   ],
   "source": [
    "u2.shape"
   ]
  },
  {
   "cell_type": "code",
   "execution_count": 66,
   "metadata": {},
   "outputs": [
    {
     "data": {
      "text/plain": [
       "33"
      ]
     },
     "execution_count": 66,
     "metadata": {},
     "output_type": "execute_result"
    }
   ],
   "source": [
    "len(corum_subset.loc[1781, 'composition'])"
   ]
  },
  {
   "cell_type": "code",
   "execution_count": 67,
   "metadata": {},
   "outputs": [
    {
     "data": {
      "text/plain": [
       "{'HTATSF1', 'RNU2-1'}"
      ]
     },
     "execution_count": 67,
     "metadata": {},
     "output_type": "execute_result"
    }
   ],
   "source": [
    "set(u2['Gene Symbol']) - set(corum_subset.loc[1781, 'composition'])"
   ]
  },
  {
   "cell_type": "markdown",
   "metadata": {},
   "source": [
    "## extract everything from spliceomse by complex"
   ]
  },
  {
   "cell_type": "code",
   "execution_count": 68,
   "metadata": {},
   "outputs": [],
   "source": [
    "splice_dict = {}\n",
    "for c in list(all_splice_complex):\n",
    "    composition = splicesome.loc[(splicesome['Complex'].notnull()) & (splicesome['Complex'].str.contains(c)), 'Gene Symbol']\n",
    "    splice_dict[c] = ';'.join(list(composition))\n",
    "    "
   ]
  },
  {
   "cell_type": "code",
   "execution_count": 69,
   "metadata": {},
   "outputs": [
    {
     "data": {
      "text/html": [
       "<div>\n",
       "<style scoped>\n",
       "    .dataframe tbody tr th:only-of-type {\n",
       "        vertical-align: middle;\n",
       "    }\n",
       "\n",
       "    .dataframe tbody tr th {\n",
       "        vertical-align: top;\n",
       "    }\n",
       "\n",
       "    .dataframe thead th {\n",
       "        text-align: right;\n",
       "    }\n",
       "</style>\n",
       "<table border=\"1\" class=\"dataframe\">\n",
       "  <thead>\n",
       "    <tr style=\"text-align: right;\">\n",
       "      <th></th>\n",
       "      <th>0</th>\n",
       "    </tr>\n",
       "  </thead>\n",
       "  <tbody>\n",
       "    <tr>\n",
       "      <th>A complex</th>\n",
       "      <td>SNRPB;SNRPD1;SNRPD2;SNRPD3;SNRPE;SNRPF;SNRPG;R...</td>\n",
       "    </tr>\n",
       "    <tr>\n",
       "      <th>U4/U6 snRNP</th>\n",
       "      <td>SNRPB;SNRPD1;SNRPD2;SNRPD3;SNRPE;SNRPF;SNRPG;R...</td>\n",
       "    </tr>\n",
       "    <tr>\n",
       "      <th>U1 snRNP</th>\n",
       "      <td>SNRPB;SNRPD1;SNRPD2;SNRPD3;SNRPE;SNRPF;SNRPG;R...</td>\n",
       "    </tr>\n",
       "    <tr>\n",
       "      <th>C complex</th>\n",
       "      <td>SNRPB;SNRPD1;SNRPD2;SNRPD3;SNRPE;SNRPF;SNRPG;R...</td>\n",
       "    </tr>\n",
       "    <tr>\n",
       "      <th>U5 snRNP</th>\n",
       "      <td>SNRPB;SNRPD1;SNRPD2;SNRPD3;SNRPE;SNRPF;SNRPG;R...</td>\n",
       "    </tr>\n",
       "    <tr>\n",
       "      <th>Bact complex</th>\n",
       "      <td>SNRPB;SNRPD1;SNRPD2;SNRPD3;SNRPE;SNRPF;SNRPG;R...</td>\n",
       "    </tr>\n",
       "    <tr>\n",
       "      <th>P complex</th>\n",
       "      <td>SNRPB;SNRPD1;SNRPD2;SNRPD3;SNRPE;SNRPF;SNRPG;R...</td>\n",
       "    </tr>\n",
       "    <tr>\n",
       "      <th>17S U2 snRNP</th>\n",
       "      <td>SNRPB;SNRPD1;SNRPD2;SNRPD3;SNRPE;SNRPF;SNRPG;R...</td>\n",
       "    </tr>\n",
       "    <tr>\n",
       "      <th>tri-snRNP</th>\n",
       "      <td>SNRPB;SNRPD1;SNRPD2;SNRPD3;SNRPE;SNRPF;SNRPG;R...</td>\n",
       "    </tr>\n",
       "    <tr>\n",
       "      <th>B complex</th>\n",
       "      <td>SNRPB;SNRPD1;SNRPD2;SNRPD3;SNRPE;SNRPF;SNRPG;R...</td>\n",
       "    </tr>\n",
       "  </tbody>\n",
       "</table>\n",
       "</div>"
      ],
      "text/plain": [
       "                                                              0\n",
       "A complex     SNRPB;SNRPD1;SNRPD2;SNRPD3;SNRPE;SNRPF;SNRPG;R...\n",
       "U4/U6 snRNP   SNRPB;SNRPD1;SNRPD2;SNRPD3;SNRPE;SNRPF;SNRPG;R...\n",
       "U1 snRNP      SNRPB;SNRPD1;SNRPD2;SNRPD3;SNRPE;SNRPF;SNRPG;R...\n",
       "C complex     SNRPB;SNRPD1;SNRPD2;SNRPD3;SNRPE;SNRPF;SNRPG;R...\n",
       "U5 snRNP      SNRPB;SNRPD1;SNRPD2;SNRPD3;SNRPE;SNRPF;SNRPG;R...\n",
       "Bact complex  SNRPB;SNRPD1;SNRPD2;SNRPD3;SNRPE;SNRPF;SNRPG;R...\n",
       "P complex     SNRPB;SNRPD1;SNRPD2;SNRPD3;SNRPE;SNRPF;SNRPG;R...\n",
       "17S U2 snRNP  SNRPB;SNRPD1;SNRPD2;SNRPD3;SNRPE;SNRPF;SNRPG;R...\n",
       "tri-snRNP     SNRPB;SNRPD1;SNRPD2;SNRPD3;SNRPE;SNRPF;SNRPG;R...\n",
       "B complex     SNRPB;SNRPD1;SNRPD2;SNRPD3;SNRPE;SNRPF;SNRPG;R..."
      ]
     },
     "execution_count": 69,
     "metadata": {},
     "output_type": "execute_result"
    }
   ],
   "source": [
    "pd.DataFrame.from_dict(splice_dict, orient = 'index')"
   ]
  },
  {
   "cell_type": "code",
   "execution_count": null,
   "metadata": {},
   "outputs": [],
   "source": []
  }
 ],
 "metadata": {
  "kernelspec": {
   "display_name": "Python 3",
   "language": "python",
   "name": "python3"
  },
  "language_info": {
   "codemirror_mode": {
    "name": "ipython",
    "version": 3
   },
   "file_extension": ".py",
   "mimetype": "text/x-python",
   "name": "python",
   "nbconvert_exporter": "python",
   "pygments_lexer": "ipython3",
   "version": "3.7.6"
  }
 },
 "nbformat": 4,
 "nbformat_minor": 4
}
